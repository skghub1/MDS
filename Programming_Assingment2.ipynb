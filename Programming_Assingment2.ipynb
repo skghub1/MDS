{
 "cells": [
  {
   "cell_type": "code",
   "execution_count": 1,
   "id": "68d16ce6",
   "metadata": {},
   "outputs": [],
   "source": [
    "# 1. Write a Python program to convert kilometers to miles?\n",
    "\n",
    "# 2. Write a Python program to convert Celsius to Fahrenheit?\n",
    "\n",
    "# 3. Write a Python program to display calendar?\n",
    "\n",
    "# 4. Write a Python program to solve quadratic equation?\n",
    "\n",
    "# 5. Write a Python program to swap two variables without temp variable?\n"
   ]
  },
  {
   "cell_type": "code",
   "execution_count": 14,
   "id": "c885bd5f",
   "metadata": {},
   "outputs": [],
   "source": [
    "# 1. Write a Python program to convert kilometers to miles?\n",
    "\n",
    "def Km_to_Miles(a):\n",
    "    b = 0.621371*a\n",
    "    print(\"Distance in Miles is: \")\n",
    "    return b"
   ]
  },
  {
   "cell_type": "code",
   "execution_count": 15,
   "id": "a7421c84",
   "metadata": {},
   "outputs": [
    {
     "name": "stdout",
     "output_type": "stream",
     "text": [
      "Distance in Miles is: \n"
     ]
    },
    {
     "data": {
      "text/plain": [
       "62.137100000000004"
      ]
     },
     "execution_count": 15,
     "metadata": {},
     "output_type": "execute_result"
    }
   ],
   "source": [
    "Km_to_Miles(100)"
   ]
  },
  {
   "cell_type": "code",
   "execution_count": 1,
   "id": "34be1e2e",
   "metadata": {},
   "outputs": [],
   "source": [
    "# 2. Write a Python program to convert Celsius to Fahrenheit?\n",
    "\n",
    "def c_to_f(c):\n",
    "    f = (c * 9/5) + 32\n",
    "    print(\"Temperature in degree fahrenhiet is: \")\n",
    "    return f\n",
    "    "
   ]
  },
  {
   "cell_type": "code",
   "execution_count": 4,
   "id": "4732be2f",
   "metadata": {},
   "outputs": [
    {
     "name": "stdout",
     "output_type": "stream",
     "text": [
      "Temperature in degree fahrenhiet is: \n"
     ]
    },
    {
     "data": {
      "text/plain": [
       "89.6"
      ]
     },
     "execution_count": 4,
     "metadata": {},
     "output_type": "execute_result"
    }
   ],
   "source": [
    "c_to_f(32)"
   ]
  },
  {
   "cell_type": "code",
   "execution_count": 20,
   "id": "cf7ef1fe",
   "metadata": {},
   "outputs": [
    {
     "name": "stdout",
     "output_type": "stream",
     "text": [
      "Temperature in degree fahrenhiet is: \n"
     ]
    },
    {
     "data": {
      "text/plain": [
       "98.6"
      ]
     },
     "execution_count": 20,
     "metadata": {},
     "output_type": "execute_result"
    }
   ],
   "source": [
    "c_to_f(37)"
   ]
  },
  {
   "cell_type": "code",
   "execution_count": 5,
   "id": "f8c4c5b4",
   "metadata": {},
   "outputs": [
    {
     "name": "stdout",
     "output_type": "stream",
     "text": [
      "Enter the year in yyyy format to get the desired calender : 2023\n",
      "                                  2023\n",
      "\n",
      "      January                   February                   March\n",
      "Mo Tu We Th Fr Sa Su      Mo Tu We Th Fr Sa Su      Mo Tu We Th Fr Sa Su\n",
      "                   1             1  2  3  4  5             1  2  3  4  5\n",
      " 2  3  4  5  6  7  8       6  7  8  9 10 11 12       6  7  8  9 10 11 12\n",
      " 9 10 11 12 13 14 15      13 14 15 16 17 18 19      13 14 15 16 17 18 19\n",
      "16 17 18 19 20 21 22      20 21 22 23 24 25 26      20 21 22 23 24 25 26\n",
      "23 24 25 26 27 28 29      27 28                     27 28 29 30 31\n",
      "30 31\n",
      "\n",
      "       April                      May                       June\n",
      "Mo Tu We Th Fr Sa Su      Mo Tu We Th Fr Sa Su      Mo Tu We Th Fr Sa Su\n",
      "                1  2       1  2  3  4  5  6  7                1  2  3  4\n",
      " 3  4  5  6  7  8  9       8  9 10 11 12 13 14       5  6  7  8  9 10 11\n",
      "10 11 12 13 14 15 16      15 16 17 18 19 20 21      12 13 14 15 16 17 18\n",
      "17 18 19 20 21 22 23      22 23 24 25 26 27 28      19 20 21 22 23 24 25\n",
      "24 25 26 27 28 29 30      29 30 31                  26 27 28 29 30\n",
      "\n",
      "        July                     August                  September\n",
      "Mo Tu We Th Fr Sa Su      Mo Tu We Th Fr Sa Su      Mo Tu We Th Fr Sa Su\n",
      "                1  2          1  2  3  4  5  6                   1  2  3\n",
      " 3  4  5  6  7  8  9       7  8  9 10 11 12 13       4  5  6  7  8  9 10\n",
      "10 11 12 13 14 15 16      14 15 16 17 18 19 20      11 12 13 14 15 16 17\n",
      "17 18 19 20 21 22 23      21 22 23 24 25 26 27      18 19 20 21 22 23 24\n",
      "24 25 26 27 28 29 30      28 29 30 31               25 26 27 28 29 30\n",
      "31\n",
      "\n",
      "      October                   November                  December\n",
      "Mo Tu We Th Fr Sa Su      Mo Tu We Th Fr Sa Su      Mo Tu We Th Fr Sa Su\n",
      "                   1             1  2  3  4  5                   1  2  3\n",
      " 2  3  4  5  6  7  8       6  7  8  9 10 11 12       4  5  6  7  8  9 10\n",
      " 9 10 11 12 13 14 15      13 14 15 16 17 18 19      11 12 13 14 15 16 17\n",
      "16 17 18 19 20 21 22      20 21 22 23 24 25 26      18 19 20 21 22 23 24\n",
      "23 24 25 26 27 28 29      27 28 29 30               25 26 27 28 29 30 31\n",
      "30 31\n",
      "\n"
     ]
    }
   ],
   "source": [
    "# 3. Write a Python program to display calendar?\n",
    "\n",
    "import calendar\n",
    "\n",
    "yyyy = int(input(\"Enter the year in yyyy format to get the desired calender : \"))\n",
    "\n",
    "print(calendar.calendar(yyyy))\n",
    "\n"
   ]
  },
  {
   "cell_type": "code",
   "execution_count": 10,
   "id": "14ca3465",
   "metadata": {},
   "outputs": [
    {
     "name": "stdout",
     "output_type": "stream",
     "text": [
      "Enter coeff of x^2 : 45\n",
      "Enter coeff of x : 68\n",
      "Enter constant c : 97\n",
      "roots of this quadratic equation are :  (-0.7555555555555555+1.258845247846093j)  & (-0.7555555555555555-1.258845247846093j)\n"
     ]
    }
   ],
   "source": [
    "# 4. Write a Python program to solve quadratic equation?\n",
    "\n",
    "# a*x**2 + b*x + c = 0\n",
    "\n",
    "a = float(input(\"Enter coeff of x^2 : \"))\n",
    "b = float(input(\"Enter coeff of x : \"))\n",
    "c = float(input(\"Enter constant c : \"))\n",
    "\n",
    "D = b**2 - 4*a*c\n",
    "\n",
    "# there can be conditions:-\n",
    "# D < 0\n",
    "# D == 0\n",
    "# D > 0\n",
    "\n",
    "# x = (-b + (D)**(1/2) / (2*a)\n",
    "\n",
    "sol1 = (-b + (D)**(1/2)) / (2*a)\n",
    "sol2 = (-b - (D)**(1/2)) / (2*a)\n",
    "             \n",
    "print(\"roots of this quadratic equation are : \", sol1 ,\" &\", sol2)\n",
    "             "
   ]
  },
  {
   "cell_type": "code",
   "execution_count": 45,
   "id": "1e754058",
   "metadata": {},
   "outputs": [
    {
     "name": "stdout",
     "output_type": "stream",
     "text": [
      "enter 1st no.77\n",
      "enter 2nd no.99\n",
      "after swapping \n",
      " value of 1st no. 99 \n",
      " value of 2nd no. 77\n"
     ]
    }
   ],
   "source": [
    "# 5. Write a Python program to swap two variables without temp variable?\n",
    "\n",
    "a = input(\"enter 1st no.\")\n",
    "b = input(\"enter 2nd no.\")\n",
    "a , b = b , a\n",
    "\n",
    "print(\"after swapping\",\"\\n\", \"value of 1st no.\", a,\"\\n\", \"value of 2nd no.\", b)\n",
    "\n",
    "    \n",
    "    "
   ]
  },
  {
   "cell_type": "code",
   "execution_count": null,
   "id": "1e8844fc",
   "metadata": {},
   "outputs": [],
   "source": []
  },
  {
   "cell_type": "code",
   "execution_count": null,
   "id": "5109a169",
   "metadata": {},
   "outputs": [],
   "source": []
  },
  {
   "cell_type": "code",
   "execution_count": null,
   "id": "dd937a0f",
   "metadata": {},
   "outputs": [],
   "source": []
  }
 ],
 "metadata": {
  "kernelspec": {
   "display_name": "Python 3 (ipykernel)",
   "language": "python",
   "name": "python3"
  },
  "language_info": {
   "codemirror_mode": {
    "name": "ipython",
    "version": 3
   },
   "file_extension": ".py",
   "mimetype": "text/x-python",
   "name": "python",
   "nbconvert_exporter": "python",
   "pygments_lexer": "ipython3",
   "version": "3.9.7"
  }
 },
 "nbformat": 4,
 "nbformat_minor": 5
}
